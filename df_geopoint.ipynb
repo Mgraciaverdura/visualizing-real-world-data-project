{
 "cells": [
  {
   "cell_type": "code",
   "execution_count": 25,
   "metadata": {},
   "outputs": [
    {
     "ename": "MissingSchema",
     "evalue": "Invalid URL 'maps/api/place/findplacefromtext/json?input={}/%20of%20{}%20{}&inputtype': No schema supplied. Perhaps you meant http://maps/api/place/findplacefromtext/json?input={}/%20of%20{}%20{}&inputtype?",
     "output_type": "error",
     "traceback": [
      "\u001b[0;31m---------------------------------------------------------------------------\u001b[0m",
      "\u001b[0;31mMissingSchema\u001b[0m                             Traceback (most recent call last)",
      "\u001b[0;32m<ipython-input-25-b9356037889a>\u001b[0m in \u001b[0;36m<module>\u001b[0;34m()\u001b[0m\n\u001b[1;32m     13\u001b[0m \u001b[0mname\u001b[0m \u001b[0;34m=\u001b[0m \u001b[0;34m\"Starbucks\"\u001b[0m\u001b[0;34m\u001b[0m\u001b[0;34m\u001b[0m\u001b[0m\n\u001b[1;32m     14\u001b[0m \u001b[0;34m\u001b[0m\u001b[0m\n\u001b[0;32m---> 15\u001b[0;31m \u001b[0mres\u001b[0m \u001b[0;34m=\u001b[0m \u001b[0mrequests\u001b[0m\u001b[0;34m.\u001b[0m\u001b[0mget\u001b[0m\u001b[0;34m(\u001b[0m\u001b[0;34m\"maps/api/place/findplacefromtext/json?input={}/%20of%20{}%20{}&inputtype\"\u001b[0m\u001b[0;34m)\u001b[0m\u001b[0;34m.\u001b[0m\u001b[0mformat\u001b[0m\u001b[0;34m(\u001b[0m\u001b[0mBASE_URL\u001b[0m\u001b[0;34m,\u001b[0m\u001b[0mname\u001b[0m\u001b[0;34m,\u001b[0m \u001b[0mAPI_KEY\u001b[0m\u001b[0;34m)\u001b[0m\u001b[0;34m\u001b[0m\u001b[0;34m\u001b[0m\u001b[0m\n\u001b[0m\u001b[1;32m     16\u001b[0m \u001b[0;31m#res = requests.get(\"{}/maps/api/place/findplacefromtext/json?inputtype=textquery&fields={}&key={}\".format(BASE_URL,name,API_KEY))\u001b[0m\u001b[0;34m\u001b[0m\u001b[0;34m\u001b[0m\u001b[0;34m\u001b[0m\u001b[0m\n\u001b[1;32m     17\u001b[0m \u001b[0;31m#res = requests.get(\"{}/repos/{}/{}/stargazers\".format(BASE_URL,owner, repo))\u001b[0m\u001b[0;34m\u001b[0m\u001b[0;34m\u001b[0m\u001b[0;34m\u001b[0m\u001b[0m\n",
      "\u001b[0;32m/usr/local/lib/python2.7/dist-packages/requests/api.pyc\u001b[0m in \u001b[0;36mget\u001b[0;34m(url, params, **kwargs)\u001b[0m\n\u001b[1;32m     73\u001b[0m \u001b[0;34m\u001b[0m\u001b[0m\n\u001b[1;32m     74\u001b[0m     \u001b[0mkwargs\u001b[0m\u001b[0;34m.\u001b[0m\u001b[0msetdefault\u001b[0m\u001b[0;34m(\u001b[0m\u001b[0;34m'allow_redirects'\u001b[0m\u001b[0;34m,\u001b[0m \u001b[0mTrue\u001b[0m\u001b[0;34m)\u001b[0m\u001b[0;34m\u001b[0m\u001b[0;34m\u001b[0m\u001b[0m\n\u001b[0;32m---> 75\u001b[0;31m     \u001b[0;32mreturn\u001b[0m \u001b[0mrequest\u001b[0m\u001b[0;34m(\u001b[0m\u001b[0;34m'get'\u001b[0m\u001b[0;34m,\u001b[0m \u001b[0murl\u001b[0m\u001b[0;34m,\u001b[0m \u001b[0mparams\u001b[0m\u001b[0;34m=\u001b[0m\u001b[0mparams\u001b[0m\u001b[0;34m,\u001b[0m \u001b[0;34m**\u001b[0m\u001b[0mkwargs\u001b[0m\u001b[0;34m)\u001b[0m\u001b[0;34m\u001b[0m\u001b[0;34m\u001b[0m\u001b[0m\n\u001b[0m\u001b[1;32m     76\u001b[0m \u001b[0;34m\u001b[0m\u001b[0m\n\u001b[1;32m     77\u001b[0m \u001b[0;34m\u001b[0m\u001b[0m\n",
      "\u001b[0;32m/usr/local/lib/python2.7/dist-packages/requests/api.pyc\u001b[0m in \u001b[0;36mrequest\u001b[0;34m(method, url, **kwargs)\u001b[0m\n\u001b[1;32m     58\u001b[0m     \u001b[0;31m# cases, and look like a memory leak in others.\u001b[0m\u001b[0;34m\u001b[0m\u001b[0;34m\u001b[0m\u001b[0;34m\u001b[0m\u001b[0m\n\u001b[1;32m     59\u001b[0m     \u001b[0;32mwith\u001b[0m \u001b[0msessions\u001b[0m\u001b[0;34m.\u001b[0m\u001b[0mSession\u001b[0m\u001b[0;34m(\u001b[0m\u001b[0;34m)\u001b[0m \u001b[0;32mas\u001b[0m \u001b[0msession\u001b[0m\u001b[0;34m:\u001b[0m\u001b[0;34m\u001b[0m\u001b[0;34m\u001b[0m\u001b[0m\n\u001b[0;32m---> 60\u001b[0;31m         \u001b[0;32mreturn\u001b[0m \u001b[0msession\u001b[0m\u001b[0;34m.\u001b[0m\u001b[0mrequest\u001b[0m\u001b[0;34m(\u001b[0m\u001b[0mmethod\u001b[0m\u001b[0;34m=\u001b[0m\u001b[0mmethod\u001b[0m\u001b[0;34m,\u001b[0m \u001b[0murl\u001b[0m\u001b[0;34m=\u001b[0m\u001b[0murl\u001b[0m\u001b[0;34m,\u001b[0m \u001b[0;34m**\u001b[0m\u001b[0mkwargs\u001b[0m\u001b[0;34m)\u001b[0m\u001b[0;34m\u001b[0m\u001b[0;34m\u001b[0m\u001b[0m\n\u001b[0m\u001b[1;32m     61\u001b[0m \u001b[0;34m\u001b[0m\u001b[0m\n\u001b[1;32m     62\u001b[0m \u001b[0;34m\u001b[0m\u001b[0m\n",
      "\u001b[0;32m/usr/local/lib/python2.7/dist-packages/requests/sessions.pyc\u001b[0m in \u001b[0;36mrequest\u001b[0;34m(self, method, url, params, data, headers, cookies, files, auth, timeout, allow_redirects, proxies, hooks, stream, verify, cert, json)\u001b[0m\n\u001b[1;32m    517\u001b[0m             \u001b[0mhooks\u001b[0m\u001b[0;34m=\u001b[0m\u001b[0mhooks\u001b[0m\u001b[0;34m,\u001b[0m\u001b[0;34m\u001b[0m\u001b[0;34m\u001b[0m\u001b[0m\n\u001b[1;32m    518\u001b[0m         )\n\u001b[0;32m--> 519\u001b[0;31m         \u001b[0mprep\u001b[0m \u001b[0;34m=\u001b[0m \u001b[0mself\u001b[0m\u001b[0;34m.\u001b[0m\u001b[0mprepare_request\u001b[0m\u001b[0;34m(\u001b[0m\u001b[0mreq\u001b[0m\u001b[0;34m)\u001b[0m\u001b[0;34m\u001b[0m\u001b[0;34m\u001b[0m\u001b[0m\n\u001b[0m\u001b[1;32m    520\u001b[0m \u001b[0;34m\u001b[0m\u001b[0m\n\u001b[1;32m    521\u001b[0m         \u001b[0mproxies\u001b[0m \u001b[0;34m=\u001b[0m \u001b[0mproxies\u001b[0m \u001b[0;32mor\u001b[0m \u001b[0;34m{\u001b[0m\u001b[0;34m}\u001b[0m\u001b[0;34m\u001b[0m\u001b[0;34m\u001b[0m\u001b[0m\n",
      "\u001b[0;32m/usr/local/lib/python2.7/dist-packages/requests/sessions.pyc\u001b[0m in \u001b[0;36mprepare_request\u001b[0;34m(self, request)\u001b[0m\n\u001b[1;32m    460\u001b[0m             \u001b[0mauth\u001b[0m\u001b[0;34m=\u001b[0m\u001b[0mmerge_setting\u001b[0m\u001b[0;34m(\u001b[0m\u001b[0mauth\u001b[0m\u001b[0;34m,\u001b[0m \u001b[0mself\u001b[0m\u001b[0;34m.\u001b[0m\u001b[0mauth\u001b[0m\u001b[0;34m)\u001b[0m\u001b[0;34m,\u001b[0m\u001b[0;34m\u001b[0m\u001b[0;34m\u001b[0m\u001b[0m\n\u001b[1;32m    461\u001b[0m             \u001b[0mcookies\u001b[0m\u001b[0;34m=\u001b[0m\u001b[0mmerged_cookies\u001b[0m\u001b[0;34m,\u001b[0m\u001b[0;34m\u001b[0m\u001b[0;34m\u001b[0m\u001b[0m\n\u001b[0;32m--> 462\u001b[0;31m             \u001b[0mhooks\u001b[0m\u001b[0;34m=\u001b[0m\u001b[0mmerge_hooks\u001b[0m\u001b[0;34m(\u001b[0m\u001b[0mrequest\u001b[0m\u001b[0;34m.\u001b[0m\u001b[0mhooks\u001b[0m\u001b[0;34m,\u001b[0m \u001b[0mself\u001b[0m\u001b[0;34m.\u001b[0m\u001b[0mhooks\u001b[0m\u001b[0;34m)\u001b[0m\u001b[0;34m,\u001b[0m\u001b[0;34m\u001b[0m\u001b[0;34m\u001b[0m\u001b[0m\n\u001b[0m\u001b[1;32m    463\u001b[0m         )\n\u001b[1;32m    464\u001b[0m         \u001b[0;32mreturn\u001b[0m \u001b[0mp\u001b[0m\u001b[0;34m\u001b[0m\u001b[0;34m\u001b[0m\u001b[0m\n",
      "\u001b[0;32m/usr/local/lib/python2.7/dist-packages/requests/models.pyc\u001b[0m in \u001b[0;36mprepare\u001b[0;34m(self, method, url, headers, files, data, params, auth, cookies, hooks, json)\u001b[0m\n\u001b[1;32m    311\u001b[0m \u001b[0;34m\u001b[0m\u001b[0m\n\u001b[1;32m    312\u001b[0m         \u001b[0mself\u001b[0m\u001b[0;34m.\u001b[0m\u001b[0mprepare_method\u001b[0m\u001b[0;34m(\u001b[0m\u001b[0mmethod\u001b[0m\u001b[0;34m)\u001b[0m\u001b[0;34m\u001b[0m\u001b[0;34m\u001b[0m\u001b[0m\n\u001b[0;32m--> 313\u001b[0;31m         \u001b[0mself\u001b[0m\u001b[0;34m.\u001b[0m\u001b[0mprepare_url\u001b[0m\u001b[0;34m(\u001b[0m\u001b[0murl\u001b[0m\u001b[0;34m,\u001b[0m \u001b[0mparams\u001b[0m\u001b[0;34m)\u001b[0m\u001b[0;34m\u001b[0m\u001b[0;34m\u001b[0m\u001b[0m\n\u001b[0m\u001b[1;32m    314\u001b[0m         \u001b[0mself\u001b[0m\u001b[0;34m.\u001b[0m\u001b[0mprepare_headers\u001b[0m\u001b[0;34m(\u001b[0m\u001b[0mheaders\u001b[0m\u001b[0;34m)\u001b[0m\u001b[0;34m\u001b[0m\u001b[0;34m\u001b[0m\u001b[0m\n\u001b[1;32m    315\u001b[0m         \u001b[0mself\u001b[0m\u001b[0;34m.\u001b[0m\u001b[0mprepare_cookies\u001b[0m\u001b[0;34m(\u001b[0m\u001b[0mcookies\u001b[0m\u001b[0;34m)\u001b[0m\u001b[0;34m\u001b[0m\u001b[0;34m\u001b[0m\u001b[0m\n",
      "\u001b[0;32m/usr/local/lib/python2.7/dist-packages/requests/models.pyc\u001b[0m in \u001b[0;36mprepare_url\u001b[0;34m(self, url, params)\u001b[0m\n\u001b[1;32m    385\u001b[0m             \u001b[0merror\u001b[0m \u001b[0;34m=\u001b[0m \u001b[0merror\u001b[0m\u001b[0;34m.\u001b[0m\u001b[0mformat\u001b[0m\u001b[0;34m(\u001b[0m\u001b[0mto_native_string\u001b[0m\u001b[0;34m(\u001b[0m\u001b[0murl\u001b[0m\u001b[0;34m,\u001b[0m \u001b[0;34m'utf8'\u001b[0m\u001b[0;34m)\u001b[0m\u001b[0;34m)\u001b[0m\u001b[0;34m\u001b[0m\u001b[0;34m\u001b[0m\u001b[0m\n\u001b[1;32m    386\u001b[0m \u001b[0;34m\u001b[0m\u001b[0m\n\u001b[0;32m--> 387\u001b[0;31m             \u001b[0;32mraise\u001b[0m \u001b[0mMissingSchema\u001b[0m\u001b[0;34m(\u001b[0m\u001b[0merror\u001b[0m\u001b[0;34m)\u001b[0m\u001b[0;34m\u001b[0m\u001b[0;34m\u001b[0m\u001b[0m\n\u001b[0m\u001b[1;32m    388\u001b[0m \u001b[0;34m\u001b[0m\u001b[0m\n\u001b[1;32m    389\u001b[0m         \u001b[0;32mif\u001b[0m \u001b[0;32mnot\u001b[0m \u001b[0mhost\u001b[0m\u001b[0;34m:\u001b[0m\u001b[0;34m\u001b[0m\u001b[0;34m\u001b[0m\u001b[0m\n",
      "\u001b[0;31mMissingSchema\u001b[0m: Invalid URL 'maps/api/place/findplacefromtext/json?input={}/%20of%20{}%20{}&inputtype': No schema supplied. Perhaps you meant http://maps/api/place/findplacefromtext/json?input={}/%20of%20{}%20{}&inputtype?"
     ]
    }
   ],
   "source": [
    "import requests\n",
    "import os\n",
    "\n",
    "#BASE_URL = \"https://api.github.com\"\n",
    "BASE_URL = \"https://maps.googleapis.com\"\n",
    "#https://maps.googleapis.com/maps/api/place/findplacefromtext/json?input=Museum%20of%20Contemporary%20Art%20Australia&inputtype=textquery&fields=photos,formatted_address,name,rating,opening_hours,geometry&key=YOUR_API_KEY\n",
    "#API_KEY = os.getenv(\"token_maps\")\n",
    "API_KEY=''\n",
    "\n",
    "with open(\"token.py\") as file:\n",
    "    API_KEY= file.read().strip()\n",
    "\n",
    "name = \"Starbucks\"\n",
    "\n",
    "res = requests.get(\"{}maps/api/place/findplacefromtext/json?input={}/%20of%20{}%20{}&inputtype\").format(BASE_URL,name, API_KEY)\n",
    "#res = requests.get(\"{}/maps/api/place/findplacefromtext/json?inputtype=textquery&fields={}&key={}\".format(BASE_URL,name,API_KEY))\n",
    "#res = requests.get(\"{}/repos/{}/{}/stargazers\".format(BASE_URL,owner, repo))\n",
    "#res.json()"
   ]
  },
  {
   "cell_type": "code",
   "execution_count": 47,
   "metadata": {},
   "outputs": [],
   "source": [
    "import pymongo\n",
    "from pymongo import MongoClient\n",
    "client = MongoClient(\"localhost\", 27017)\n",
    "db = client[\"companies\"]\n",
    "\n",
    "from pandas.io.json import json_normalize\n",
    "\n",
    "import pandas as pd\n",
    "\n",
    "data = db.nuevas_oficinas2.find()"
   ]
  },
  {
   "cell_type": "code",
   "execution_count": 48,
   "metadata": {},
   "outputs": [
    {
     "data": {
      "text/html": [
       "<div>\n",
       "<style scoped>\n",
       "    .dataframe tbody tr th:only-of-type {\n",
       "        vertical-align: middle;\n",
       "    }\n",
       "\n",
       "    .dataframe tbody tr th {\n",
       "        vertical-align: top;\n",
       "    }\n",
       "\n",
       "    .dataframe thead th {\n",
       "        text-align: right;\n",
       "    }\n",
       "</style>\n",
       "<table border=\"1\" class=\"dataframe\">\n",
       "  <thead>\n",
       "    <tr style=\"text-align: right;\">\n",
       "      <th></th>\n",
       "      <th>_id</th>\n",
       "      <th>city</th>\n",
       "      <th>country_code</th>\n",
       "      <th>founded_year</th>\n",
       "      <th>geo</th>\n",
       "      <th>latitude</th>\n",
       "      <th>long-lat</th>\n",
       "      <th>longitude</th>\n",
       "      <th>name</th>\n",
       "      <th>total_money_raised</th>\n",
       "      <th>total_offices</th>\n",
       "    </tr>\n",
       "  </thead>\n",
       "  <tbody>\n",
       "    <tr>\n",
       "      <th>0</th>\n",
       "      <td>5d26fafca7c6435d74091fab</td>\n",
       "      <td>Pleasanton</td>\n",
       "      <td>USA</td>\n",
       "      <td>2005</td>\n",
       "      <td>{u'type': u'Point', u'coordinates': [-121.9049...</td>\n",
       "      <td>37.692934</td>\n",
       "      <td>-121.904945, 37.692934</td>\n",
       "      <td>-121.904945</td>\n",
       "      <td>Zoho</td>\n",
       "      <td>$0</td>\n",
       "      <td>1</td>\n",
       "    </tr>\n",
       "    <tr>\n",
       "      <th>1</th>\n",
       "      <td>5d26fafca7c6435d74091fac</td>\n",
       "      <td>New York City</td>\n",
       "      <td>USA</td>\n",
       "      <td>2007</td>\n",
       "      <td>{u'type': u'Point', u'coordinates': [-73.98550...</td>\n",
       "      <td>40.757929</td>\n",
       "      <td>-73.985506, 40.757929</td>\n",
       "      <td>-73.985506</td>\n",
       "      <td>MeetMoi</td>\n",
       "      <td>$5.58M</td>\n",
       "      <td>1</td>\n",
       "    </tr>\n",
       "    <tr>\n",
       "      <th>2</th>\n",
       "      <td>5d26fafca7c6435d74091fad</td>\n",
       "      <td>London</td>\n",
       "      <td>GBR</td>\n",
       "      <td>2007</td>\n",
       "      <td>{u'type': u'Point', u'coordinates': [-6.267494...</td>\n",
       "      <td>53.344104</td>\n",
       "      <td>-6.267494, 53.344104</td>\n",
       "      <td>-6.267494</td>\n",
       "      <td>Babelgum</td>\n",
       "      <td>$13.2M</td>\n",
       "      <td>1</td>\n",
       "    </tr>\n",
       "    <tr>\n",
       "      <th>3</th>\n",
       "      <td>5d26fafca7c6435d74091fae</td>\n",
       "      <td>New York</td>\n",
       "      <td>USA</td>\n",
       "      <td>2006</td>\n",
       "      <td>{u'type': u'Point', u'coordinates': [-74.00944...</td>\n",
       "      <td>40.746497</td>\n",
       "      <td>-74.0094471, 40.7464969</td>\n",
       "      <td>-74.009447</td>\n",
       "      <td>Joost</td>\n",
       "      <td>$45M</td>\n",
       "      <td>1</td>\n",
       "    </tr>\n",
       "    <tr>\n",
       "      <th>4</th>\n",
       "      <td>5d26fafca7c6435d74091faf</td>\n",
       "      <td>San Francisco</td>\n",
       "      <td>USA</td>\n",
       "      <td>2004</td>\n",
       "      <td>{u'type': u'Point', u'coordinates': [-122.3945...</td>\n",
       "      <td>37.764726</td>\n",
       "      <td>-122.394523, 37.764726</td>\n",
       "      <td>-122.394523</td>\n",
       "      <td>Digg</td>\n",
       "      <td>$45M</td>\n",
       "      <td>1</td>\n",
       "    </tr>\n",
       "  </tbody>\n",
       "</table>\n",
       "</div>"
      ],
      "text/plain": [
       "                        _id           city country_code  founded_year  \\\n",
       "0  5d26fafca7c6435d74091fab     Pleasanton          USA          2005   \n",
       "1  5d26fafca7c6435d74091fac  New York City          USA          2007   \n",
       "2  5d26fafca7c6435d74091fad         London          GBR          2007   \n",
       "3  5d26fafca7c6435d74091fae       New York          USA          2006   \n",
       "4  5d26fafca7c6435d74091faf  San Francisco          USA          2004   \n",
       "\n",
       "                                                 geo   latitude  \\\n",
       "0  {u'type': u'Point', u'coordinates': [-121.9049...  37.692934   \n",
       "1  {u'type': u'Point', u'coordinates': [-73.98550...  40.757929   \n",
       "2  {u'type': u'Point', u'coordinates': [-6.267494...  53.344104   \n",
       "3  {u'type': u'Point', u'coordinates': [-74.00944...  40.746497   \n",
       "4  {u'type': u'Point', u'coordinates': [-122.3945...  37.764726   \n",
       "\n",
       "                  long-lat   longitude      name total_money_raised  \\\n",
       "0   -121.904945, 37.692934 -121.904945      Zoho                 $0   \n",
       "1    -73.985506, 40.757929  -73.985506   MeetMoi             $5.58M   \n",
       "2     -6.267494, 53.344104   -6.267494  Babelgum             $13.2M   \n",
       "3  -74.0094471, 40.7464969  -74.009447     Joost               $45M   \n",
       "4   -122.394523, 37.764726 -122.394523      Digg               $45M   \n",
       "\n",
       "   total_offices  \n",
       "0              1  \n",
       "1              1  \n",
       "2              1  \n",
       "3              1  \n",
       "4              1  "
      ]
     },
     "execution_count": 48,
     "metadata": {},
     "output_type": "execute_result"
    }
   ],
   "source": [
    "dataset = pd.DataFrame(list(data))\n",
    "dataset.head()"
   ]
  },
  {
   "cell_type": "code",
   "execution_count": 50,
   "metadata": {},
   "outputs": [],
   "source": [
    "def findNear(geopoint, radio_max_meters=1000):\n",
    "    return db.nuevas_oficinas2.find({\n",
    "        \"geo\": {\n",
    "         \"$near\": {\n",
    "           \"$geometry\": geopoint,\n",
    "           \"$maxDistance\": radio_max_meters,\n",
    "         }\n",
    "       }\n",
    "    })"
   ]
  },
  {
   "cell_type": "code",
   "execution_count": 51,
   "metadata": {},
   "outputs": [],
   "source": [
    "g = dataset.loc[0, 'geo']\n"
   ]
  },
  {
   "cell_type": "code",
   "execution_count": 52,
   "metadata": {},
   "outputs": [
    {
     "data": {
      "text/plain": [
       "[{u'_id': ObjectId('5d26fafca7c6435d74091fab'),\n",
       "  u'city': u'Pleasanton',\n",
       "  u'country_code': u'USA',\n",
       "  u'founded_year': 2005,\n",
       "  u'geo': {u'coordinates': [-121.904945, 37.692934], u'type': u'Point'},\n",
       "  u'latitude': 37.692934,\n",
       "  u'long-lat': u'-121.904945, 37.692934',\n",
       "  u'longitude': -121.904945,\n",
       "  u'name': u'Zoho',\n",
       "  u'total_money_raised': u'$0',\n",
       "  u'total_offices': 1},\n",
       " {u'_id': ObjectId('5d26fafca7c6435d7409379e'),\n",
       "  u'city': u'Pleasanton',\n",
       "  u'country_code': u'USA',\n",
       "  u'founded_year': 2007,\n",
       "  u'geo': {u'coordinates': [-121.904945, 37.692934], u'type': u'Point'},\n",
       "  u'latitude': 37.692934,\n",
       "  u'long-lat': u'-121.904945, 37.692934',\n",
       "  u'longitude': -121.904945,\n",
       "  u'name': u'Fulcrum Bioenergy',\n",
       "  u'total_money_raised': u'$89M',\n",
       "  u'total_offices': 1},\n",
       " {u'_id': ObjectId('5d26fafca7c6435d74091fc6'),\n",
       "  u'city': u'Pleasanton',\n",
       "  u'country_code': u'USA',\n",
       "  u'founded_year': 2005,\n",
       "  u'geo': {u'coordinates': [-121.907768, 37.697805], u'type': u'Point'},\n",
       "  u'latitude': 37.697805,\n",
       "  u'long-lat': u'-121.907768, 37.697805',\n",
       "  u'longitude': -121.907768,\n",
       "  u'name': u'Jangl SMS',\n",
       "  u'total_money_raised': u'$9M',\n",
       "  u'total_offices': 1}]"
      ]
     },
     "execution_count": 52,
     "metadata": {},
     "output_type": "execute_result"
    }
   ],
   "source": [
    "#empresas cercanas a mil metros\n",
    "res = findNear(g)\n",
    "list(res)"
   ]
  },
  {
   "cell_type": "code",
   "execution_count": null,
   "metadata": {},
   "outputs": [],
   "source": [
    "#iterando, y hacer algún cálculo por ejemplo sumando numero de años sea más bajo (porque quiero start ups)\n",
    "def near_start_ups()\n",
    "    return db.nuevas_oficinas2.find({\n",
    "       \"name\": {\n",
    "           \n",
    "           \n",
    "       } \n",
    "        \n",
    "    })"
   ]
  },
  {
   "cell_type": "code",
   "execution_count": 11,
   "metadata": {},
   "outputs": [
    {
     "ename": "SyntaxError",
     "evalue": "invalid syntax (<ipython-input-11-6723257b8196>, line 11)",
     "output_type": "error",
     "traceback": [
      "\u001b[0;36m  File \u001b[0;32m\"<ipython-input-11-6723257b8196>\"\u001b[0;36m, line \u001b[0;32m11\u001b[0m\n\u001b[0;31m    print(f\"Hay {num_offices} oficinas cerca a {radio_max_meters} metros\")\u001b[0m\n\u001b[0m                                                                        ^\u001b[0m\n\u001b[0;31mSyntaxError\u001b[0m\u001b[0;31m:\u001b[0m invalid syntax\n"
     ]
    }
   ],
   "source": [
    "# https://developers.google.com/maps/documentation/geocoding/intro\n",
    "park_avenue_con_21_street = {\n",
    "    \"type\":\"Point\",\n",
    "    \"coordinates\":['long,lat']\n",
    "}\n",
    "radio_max_meters = 10000\n",
    "num_offices = findNear(park_avenue_con_21_street, radio_max_meters).count()\n",
    "\n",
    "print(f\"Hay {num_offices} oficinas cerca a {radio_max_meters} metros\")\n",
    "print(\"La mas cercana es\")\n",
    "print(list(findNear(park_avenue_con_21_street, radio_max_meters).limit(1)))"
   ]
  },
  {
   "cell_type": "code",
   "execution_count": null,
   "metadata": {},
   "outputs": [],
   "source": []
  }
 ],
 "metadata": {
  "kernelspec": {
   "display_name": "Python 3",
   "language": "python",
   "name": "python3"
  },
  "language_info": {
   "codemirror_mode": {
    "name": "ipython",
    "version": 2
   },
   "file_extension": ".py",
   "mimetype": "text/x-python",
   "name": "python",
   "nbconvert_exporter": "python",
   "pygments_lexer": "ipython2",
   "version": "2.7.15+"
  }
 },
 "nbformat": 4,
 "nbformat_minor": 2
}
